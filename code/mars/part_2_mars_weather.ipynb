{
 "cells": [
  {
   "attachments": {},
   "cell_type": "markdown",
   "metadata": {},
   "source": [
    "# Module 11 Challenge\n",
    "## Deliverable 2: Scrape and Analyze Mars Weather Data"
   ]
  },
  {
   "cell_type": "code",
   "execution_count": 1,
   "metadata": {},
   "outputs": [],
   "source": [
    "# Import relevant libraries\n",
    "from splinter import Browser\n",
    "from bs4 import BeautifulSoup\n",
    "import matplotlib.pyplot as plt\n",
    "import pandas as pd"
   ]
  },
  {
   "cell_type": "code",
   "execution_count": 2,
   "metadata": {},
   "outputs": [],
   "source": [
    "browser = Browser('chrome')"
   ]
  },
  {
   "attachments": {},
   "cell_type": "markdown",
   "metadata": {},
   "source": [
    "### Step 1: Visit the Website\n",
    "\n",
    "Use automated browsing to visit the [Mars Temperature Data Site](https://static.bc-edx.com/data/web/mars_facts/temperature.html). Inspect the page to identify which elements to scrape.\n",
    "\n",
    "   > **Hint** To identify which elements to scrape, you might want to inspect the page by using Chrome DevTools to discover whether the table contains usable classes.\n"
   ]
  },
  {
   "cell_type": "code",
   "execution_count": 3,
   "metadata": {},
   "outputs": [],
   "source": [
    "# Visit the website\n",
    "# https://static.bc-edx.com/data/web/mars_facts/temperature.html\n",
    "url = \"https://static.bc-edx.com/data/web/mars_facts/temperature.html\"\n",
    "browser.visit(url)"
   ]
  },
  {
   "attachments": {},
   "cell_type": "markdown",
   "metadata": {},
   "source": [
    "### Step 2: Scrape the Table\n",
    "\n",
    "Create a Beautiful Soup object and use it to scrape the data in the HTML table.\n",
    "\n",
    "Note that this can also be achieved by using the Pandas `read_html` function. However, use Beautiful Soup here to continue sharpening your web scraping skills."
   ]
  },
  {
   "cell_type": "code",
   "execution_count": 5,
   "metadata": {},
   "outputs": [],
   "source": [
    "# Create a Beautiful Soup Object\n",
    "html = browser.html\n",
    "soup = BeautifulSoup(html, 'html.parser')\n",
    "soup = BeautifulSoup(html, 'lxml')"
   ]
  },
  {
   "cell_type": "code",
   "execution_count": null,
   "metadata": {},
   "outputs": [],
   "source": [
    "# Extract all rows of data\n",
    "table = soup.find('table', class_='table')\n",
    "rows = table.find_all('tr')"
   ]
  },
  {
   "attachments": {},
   "cell_type": "markdown",
   "metadata": {},
   "source": [
    "### Step 3: Store the Data\n",
    "\n",
    "Assemble the scraped data into a Pandas DataFrame. The columns should have the same headings as the table on the website. Here’s an explanation of the column headings:\n",
    "\n",
    "* `id`: the identification number of a single transmission from the Curiosity rover\n",
    "* `terrestrial_date`: the date on Earth\n",
    "* `sol`: the number of elapsed sols (Martian days) since Curiosity landed on Mars\n",
    "* `ls`: the solar longitude\n",
    "* `month`: the Martian month\n",
    "* `min_temp`: the minimum temperature, in Celsius, of a single Martian day (sol)\n",
    "* `pressure`: The atmospheric pressure at Curiosity's location"
   ]
  },
  {
   "cell_type": "code",
   "execution_count": 8,
   "metadata": {},
   "outputs": [],
   "source": [
    "# Create an empty list\n",
    "table_data = []\n",
    "\n",
    "# Loop through the scraped data to create a list of rows\n",
    "for row in rows:\n",
    "    # extract columns\n",
    "    cols = row.find_all('td')\n",
    "    # extract and make a list\n",
    "    col_values = [col.get_text(strip=True) for col in cols]\n",
    "    # append\n",
    "    if col_values:\n",
    "        table_data.append(col_values)"
   ]
  },
  {
   "cell_type": "code",
   "execution_count": 17,
   "metadata": {},
   "outputs": [],
   "source": [
    "# Create a Pandas DataFrame by using the list of rows and a list of the column names\n",
    "column_headers = [header.get_text(strip=True) for header in table.find_all('th')]\n",
    "df = pd.DataFrame(table_data, columns=column_headers)"
   ]
  },
  {
   "cell_type": "code",
   "execution_count": null,
   "metadata": {},
   "outputs": [],
   "source": [
    "# show df\n",
    "df.head()"
   ]
  },
  {
   "attachments": {},
   "cell_type": "markdown",
   "metadata": {},
   "source": [
    "### Step 4: Prepare Data for Analysis\n",
    "\n",
    "Examine the data types that are currently associated with each column. If necessary, cast (or convert) the data to the appropriate `datetime`, `int`, or `float` data types.\n",
    "\n",
    "  > **Hint** You can use the Pandas `astype` and `to_datetime` methods to accomplish this task.\n"
   ]
  },
  {
   "cell_type": "code",
   "execution_count": null,
   "metadata": {},
   "outputs": [],
   "source": [
    "# examine data type\n",
    "print(df.info())"
   ]
  },
  {
   "cell_type": "code",
   "execution_count": 20,
   "metadata": {},
   "outputs": [],
   "source": [
    "# change dt for analysis\n",
    "df['terrestrial_date'] = pd.to_datetime(df['terrestrial_date']) \n",
    "df['sol'] = df['sol'].astype(int)  \n",
    "df['ls'] = df['ls'].astype(int)  \n",
    "df['month'] = df['month'].astype(int) \n",
    "df['min_temp'] = df['min_temp'].astype(float)  \n",
    "df['pressure'] = df['pressure'].astype(float)  "
   ]
  },
  {
   "cell_type": "code",
   "execution_count": null,
   "metadata": {},
   "outputs": [],
   "source": [
    "# Confirm type changes were successful by examining data types again\n",
    "print(df.info())"
   ]
  },
  {
   "attachments": {},
   "cell_type": "markdown",
   "metadata": {},
   "source": [
    "### Step 5: Analyze the Data\n",
    "\n",
    "Analyze your dataset by using Pandas functions to answer the following questions:\n",
    "\n",
    "1. How many months exist on Mars?\n",
    "2. How many Martian (and not Earth) days worth of data exist in the scraped dataset?\n",
    "3. What are the coldest and the warmest months on Mars (at the location of Curiosity)? To answer this question:\n",
    "    * Find the average the minimum daily temperature for all of the months.\n",
    "    * Plot the results as a bar chart.\n",
    "4. Which months have the lowest and the highest atmospheric pressure on Mars? To answer this question:\n",
    "    * Find the average the daily atmospheric pressure of all the months.\n",
    "    * Plot the results as a bar chart.\n",
    "5. About how many terrestrial (Earth) days exist in a Martian year? To answer this question:\n",
    "    * Consider how many days elapse on Earth in the time that Mars circles the Sun once.\n",
    "    * Visually estimate the result by plotting the daily minimum temperature.\n"
   ]
  },
  {
   "cell_type": "code",
   "execution_count": null,
   "metadata": {},
   "outputs": [],
   "source": [
    "# 1. How many months are there on Mars?\n",
    "months = df['month'].nunique()\n",
    "print(f\"There are {months} months on Mars.\")"
   ]
  },
  {
   "cell_type": "code",
   "execution_count": null,
   "metadata": {},
   "outputs": [],
   "source": [
    "# 2. How many sols (Martian days) worth of data are there?\n",
    "sols = df['sol'].count()\n",
    "print(f\"There are {sols} sols of data.\")"
   ]
  },
  {
   "cell_type": "code",
   "execution_count": null,
   "metadata": {},
   "outputs": [],
   "source": [
    "# 3. What is the average minimum temperature by month?\n",
    "avg_min_temp_month = df.groupby('month')['min_temp'].mean()\n",
    "print(avg_min_temp_month)"
   ]
  },
  {
   "cell_type": "code",
   "execution_count": null,
   "metadata": {},
   "outputs": [],
   "source": [
    "# Plot the average minimum temperature by month\n",
    "avg_min_temp_month.plot(kind='bar', \n",
    "                           title='Average Minimum Temperature by Month', \n",
    "                           ylabel='Temperature (°C)', \n",
    "                           xlabel='Month', \n",
    "                           color='blue', \n",
    "                           ylim=(avg_min_temp_month.min() - 5, 0))  # Set the y-axis limits\n",
    "plt.gca().invert_yaxis()  # Invert the y-axis to make bars appear from the bottom\n",
    "plt.show()\n"
   ]
  },
  {
   "cell_type": "code",
   "execution_count": null,
   "metadata": {},
   "outputs": [],
   "source": [
    "# Identify the coldest and hottest months in Curiosity's location by sorting the previous graph\n",
    "\n",
    "sort_avg_min_temp = avg_min_temp_month.sort_values()\n",
    "\n",
    "coldest = sort_avg_min_temp.idxmin()\n",
    "hottest = sort_avg_min_temp.idxmax()\n",
    "\n",
    "print(f\"The coldest month is Month {coldest} with an average minimum temperature of {sort_avg_min_temp.min():.2f}°C.\")\n",
    "print(f\"The hottest month is Month {hottest} with an average minimum temperature of {sort_avg_min_temp.max():.2f}°C.\")"
   ]
  },
  {
   "cell_type": "code",
   "execution_count": null,
   "metadata": {},
   "outputs": [],
   "source": [
    "# 4. What is the average pressure by month?\n",
    "avg_pressure_month = df.groupby('month')['pressure'].mean()\n",
    "print(avg_pressure_month)"
   ]
  },
  {
   "cell_type": "code",
   "execution_count": null,
   "metadata": {},
   "outputs": [],
   "source": [
    "# Plot the average pressure by month\n",
    "avg_pressure_month.plot(kind='bar', title='Average Atmospheric Pressure by Month', ylabel='Pressure (Pa)', xlabel='Month')\n",
    "plt.show()"
   ]
  },
  {
   "cell_type": "code",
   "execution_count": null,
   "metadata": {},
   "outputs": [],
   "source": [
    "# Identify the lowest and highest pressure months in Curiosity's location by sorting the previous graph\n",
    "sort_avg_pressure_month = avg_pressure_month.sort_values()\n",
    "\n",
    "# lowest and highest months of pressure\n",
    "lowest = sort_avg_pressure_month.idxmin()\n",
    "highest = sort_avg_pressure_month.idxmax()\n",
    "\n",
    "# extract pressure\n",
    "lowest_pressure_value = sort_avg_pressure_month[lowest]\n",
    "highest_pressure_value = sort_avg_pressure_month[highest]\n",
    "\n",
    "# results\n",
    "print(f\"The month with the lowest atmospheric pressure is Month {lowest} with an average pressure of {lowest_pressure_value:.2f} Pa.\")\n",
    "print(f\"The month with the highest atmospheric pressure is Month {highest} with an average pressure of {highest_pressure_value:.2f} Pa.\")"
   ]
  },
  {
   "cell_type": "code",
   "execution_count": null,
   "metadata": {},
   "outputs": [],
   "source": [
    "# 5. How many terrestrial (Earth) days are there in a Martian year?\n",
    "# Visually estimate the result by plotting the daily minimum temperature of each observation in the data set.\n",
    "df_sorted = df.sort_values('terrestrial_date')\n",
    "plt.plot(df_sorted['terrestrial_date'], df_sorted['min_temp'])\n",
    "plt.title('Daily Minimum Temperature Over Time')\n",
    "plt.xlabel('Terrestrial Date')\n",
    "plt.ylabel('Minimum Temperature (°C)')\n",
    "plt.show()"
   ]
  },
  {
   "attachments": {},
   "cell_type": "markdown",
   "metadata": {},
   "source": [
    "#### Minimum Temperature\n",
    "\n",
    "Mars exhibits extreme temperatures, vividly portraying its harsh environment. The average minimum temperatures illustrate the struggle of the planet’s thin atmosphere to retain heat, particularly during the frigid months. These colder periods underscore the impact of Mars’ lack of atmospheric density, which fails to protect the surface from rapid cooling after sunset. This trend, beyond the numbers, emphasizes the formidable challenge that the Martian climate poses to any potential exploration or settlement. Equipment and habitats would need to be exceptionally resilient to endure the cold and the rapid fluctuations that define the planet’s weather patterns. The data prompts a deeper examination of how these temperature shifts may influence surface activity, such as dust storms or the behavior of carbon dioxide frost."
   ]
  },
  {
   "attachments": {},
   "cell_type": "markdown",
   "metadata": {},
   "source": [
    "#### Atmospheric Pressure\n",
    "\n",
    "The variations in atmospheric pressure across Martian months offer insights into the delicate balance of the planet's environment. Periods of higher pressure suggest moments when atmospheric gases are more concentrated, likely influenced by seasonal or surface dynamics. Lower pressure periods, in contrast, emphasize the tenuous nature of Mars' atmosphere, revealing the challenges of maintaining gas retention under such conditions. Observing these patterns deepens our understanding of the planet's capacity to sustain even minimal atmospheric stability and how external factors shape these cycles."
   ]
  },
  {
   "attachments": {},
   "cell_type": "markdown",
   "metadata": {},
   "source": [
    "#### Year Length\n",
    "\n",
    "Recurring patterns in daily minimum temperatures reveal the length of a Martian year, offering a clear view of the planet's extended orbital rhythm. Peaks and troughs in these temperature cycles trace a year nearly double the length of Earth's. The prolonged timeline influences every aspect of Martian weather, from seasonal shifts to the duration of sol-based climate patterns. Understanding the extended cycle lays a foundation for planning exploratory missions and assessing the practicality of sustaining long-term human or robotic operations on the planet."
   ]
  },
  {
   "attachments": {},
   "cell_type": "markdown",
   "metadata": {},
   "source": [
    "### Step 6: Save the Data\n",
    "\n",
    "Export the DataFrame to a CSV file."
   ]
  },
  {
   "cell_type": "code",
   "execution_count": 43,
   "metadata": {},
   "outputs": [],
   "source": [
    "# Write the data to a CSV\n",
    "df.to_csv('mars_weather.csv', index=False)"
   ]
  },
  {
   "cell_type": "code",
   "execution_count": 44,
   "metadata": {},
   "outputs": [],
   "source": [
    "browser.quit()"
   ]
  }
 ],
 "metadata": {
  "kernelspec": {
   "display_name": "base",
   "language": "python",
   "name": "python3"
  },
  "language_info": {
   "codemirror_mode": {
    "name": "ipython",
    "version": 3
   },
   "file_extension": ".py",
   "mimetype": "text/x-python",
   "name": "python",
   "nbconvert_exporter": "python",
   "pygments_lexer": "ipython3",
   "version": "3.12.4"
  }
 },
 "nbformat": 4,
 "nbformat_minor": 4
}
